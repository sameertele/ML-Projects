{
 "cells": [
  {
   "cell_type": "markdown",
   "id": "9d93a3fd-73fb-42eb-85af-1cdb51528c6f",
   "metadata": {},
   "source": [
    "# My KNN implementation"
   ]
  },
  {
   "cell_type": "code",
   "execution_count": 1,
   "id": "a06c3f76-fc0d-4f9b-8198-ad7f54b2f714",
   "metadata": {},
   "outputs": [],
   "source": [
    "from random import seed\n",
    "from random import randrange\n",
    "from csv import reader\n",
    "from math import sqrt\n",
    "import numpy as np\n",
    "import random"
   ]
  },
  {
   "cell_type": "code",
   "execution_count": 2,
   "id": "c0f76d50-f0de-49c6-a83a-344721949ba1",
   "metadata": {},
   "outputs": [],
   "source": [
    "def load_csv(filename):\n",
    "    dataset = list()\n",
    "    with open(filename, 'r') as file:\n",
    "        csv_reader = reader(file)\n",
    "        for row in csv_reader:\n",
    "            if not row:\n",
    "                continue\n",
    "            dataset.append(row)\n",
    "    return dataset"
   ]
  },
  {
   "cell_type": "code",
   "execution_count": 3,
   "id": "fecc36d0-105a-40ef-ac6c-b5fc78322cbe",
   "metadata": {},
   "outputs": [],
   "source": [
    "def str_column_to_float(dataset, column):\n",
    "    for row in dataset:\n",
    "        row[column] = float(row[column].strip())"
   ]
  },
  {
   "cell_type": "code",
   "execution_count": 4,
   "id": "d581c4e1-d85d-4c7a-b906-ac227ff8af13",
   "metadata": {},
   "outputs": [],
   "source": [
    "def str_column_to_int(dataset, column):\n",
    "    class_values = [row[column] for row in dataset]\n",
    "    unique = set(class_values)\n",
    "    lookup = dict()\n",
    "    for i, value in enumerate(unique):\n",
    "        lookup[value] = i\n",
    "    for row in dataset:\n",
    "        row[column] = lookup[row[column]]\n",
    "    return lookup"
   ]
  },
  {
   "cell_type": "code",
   "execution_count": 5,
   "id": "f24c161e-83fb-4de5-bbed-f1e3df93b2fc",
   "metadata": {},
   "outputs": [],
   "source": [
    "def dataset_minmax(dataset):\n",
    "    minmax = list()\n",
    "    for i in range(len(dataset[0])):\n",
    "        column_values = [row[i] for row in dataset]\n",
    "        value_min = min(column_values)\n",
    "        value_max = max(column_values)\n",
    "        minmax.append([value_min, value_max])\n",
    "    return minmax"
   ]
  },
  {
   "cell_type": "code",
   "execution_count": 6,
   "id": "544a8fe4-1701-47b1-be6f-99dd0a977f6a",
   "metadata": {},
   "outputs": [],
   "source": [
    "def normalize_dataset(dataset, minmax):\n",
    "    for row in dataset:\n",
    "        for i in range(len(row)):\n",
    "            row[i] = (row[i] - minmax[i][0]) / (minmax[i][1] - minmax[i][0])"
   ]
  },
  {
   "cell_type": "code",
   "execution_count": 7,
   "id": "cf226ee8-67f5-43e2-a240-f1e5d1c714e3",
   "metadata": {},
   "outputs": [],
   "source": [
    "def knn(train_data, test_data, class_index, k, dist_func):\n",
    "    distances = []\n",
    "\n",
    "    for train_point, label in train_data:\n",
    "        dist = dist_func(train_point, test_data)\n",
    "        distances.append((dist, label))\n",
    "\n",
    "    sorted_distances = sorted(distances, key=lambda x: x[0])\n",
    "    k_nearest_neighbors = sorted_distances[:k]\n",
    "\n",
    "    votes_of_each_class= dict()\n",
    "    for dist,label in k_nearest_neighbors:\n",
    "        if label in votes_of_each_class:\n",
    "            votes_of_each_class[label]+=1\n",
    "        else:\n",
    "            votes_of_each_class[label] = 1\n",
    "            \n",
    "    return max(votes_of_each_class, key=votes_of_each_class.get)"
   ]
  },
  {
   "cell_type": "code",
   "execution_count": 85,
   "id": "c2859bab-2a83-453b-aaa2-60cad307662c",
   "metadata": {},
   "outputs": [],
   "source": [
    "def k_fold_cross_validation(data, num_of_folds, class_index, dist_func,k):\n",
    "    n = len(data)\n",
    "    fold_size = n //num_of_folds\n",
    "    accuracies=[]\n",
    "    random.Random(42).shuffle(data)\n",
    "    \n",
    "    \n",
    "    for i in range(num_of_folds):\n",
    "        test_data = data[i * fold_size:(i + 1)* fold_size]\n",
    "        train_data = data[:i *fold_size] + data[(i+1) * fold_size:]\n",
    "        \n",
    "        correct_identify=0\n",
    "        for test_point, true_label in test_data:\n",
    "            predicted_label = knn(train_data,test_point,class_index, k, dist_func)\n",
    "            if predicted_label == true_label:\n",
    "                correct_identify += 1\n",
    "\n",
    "        accuracy = correct_identify /len(test_data)\n",
    "        accuracies.append(accuracy)\n",
    "\n",
    "    return accuracies"
   ]
  },
  {
   "cell_type": "code",
   "execution_count": 9,
   "id": "bddb8a2f-f8cd-4ea4-b80e-707d14d32e1b",
   "metadata": {},
   "outputs": [],
   "source": [
    "def euclidean_distance(row1, row2):\n",
    "    distance = 0.0\n",
    "    for i in range(len(row1)):\n",
    "        distance += (row1[i] - row2[i])**2\n",
    "    return sqrt(distance)"
   ]
  },
  {
   "cell_type": "code",
   "execution_count": 10,
   "id": "1a2af302-86a8-4d82-b9f9-e0348d26f376",
   "metadata": {},
   "outputs": [],
   "source": [
    "def cosine_distance(point1, point2):\n",
    "    dot_product= np.dot(point1, point2)\n",
    "    norm1 = np.linalg.norm(point1)\n",
    "    norm2 = np.linalg.norm(point2)\n",
    "    cosine_similarity= dot_product / (norm1 * norm2)\n",
    "    cosine_distance = 1 - cosine_similarity\n",
    "    return cosine_distance"
   ]
  },
  {
   "cell_type": "code",
   "execution_count": 11,
   "id": "451e1113-85f3-416d-a346-030d657a8443",
   "metadata": {},
   "outputs": [],
   "source": [
    "def hamming_distance(point1, point2):\n",
    "    distance = sum(bit1 != bit2 for bit1, bit2 in zip(point1, point2))\n",
    "    return distance"
   ]
  },
  {
   "cell_type": "code",
   "execution_count": 12,
   "id": "3af0f81d-120c-4dac-9c45-0e9bbf9ffc56",
   "metadata": {},
   "outputs": [],
   "source": [
    "def manhattan_distance(point1, point2):\n",
    "    distance = sum(abs(x - y) for x, y in zip(point1, point2))\n",
    "    return distance"
   ]
  },
  {
   "cell_type": "code",
   "execution_count": 13,
   "id": "2eeea327-54d7-473e-8cf5-fea759173f0c",
   "metadata": {},
   "outputs": [],
   "source": [
    "def minkowski_distance(point1, point2, p=2):\n",
    "    distance = sum(abs(x - y) ** p for x, y in zip(point1, point2)) ** (1/p)\n",
    "    return distance"
   ]
  },
  {
   "cell_type": "code",
   "execution_count": 86,
   "id": "ad025ece-3c76-4405-b307-00d772b186c6",
   "metadata": {},
   "outputs": [],
   "source": [
    "def run_knn_k_cross(filename,class_index,list_of_encoding_index,dist_func,k):\n",
    "    dataset = load_csv(filename)\n",
    "    column_lookup = dict()\n",
    "    for i in range(len(dataset[0])):\n",
    "        if i != class_index and i not in list_of_encoding_index:\n",
    "            str_column_to_float(dataset, i)\n",
    "        elif i in list_of_encoding_index:\n",
    "            column_lookup[i] = str_column_to_int(dataset, i)\n",
    "\n",
    "    column_lookup[class_index]=str_column_to_int(dataset, class_index)\n",
    "\n",
    "    n_folds = 10\n",
    "    new_dataset= []\n",
    "    normalize_dataset(dataset,dataset_minmax(dataset))\n",
    "    for i in range(len(dataset)):\n",
    "        label = dataset[i][class_index]\n",
    "        dataset[i].pop(class_index)\n",
    "        new_dataset.append([tuple(dataset[i]),label])\n",
    "    \n",
    "    scores=k_fold_cross_validation(new_dataset, n_folds, class_index, dist_func, k)\n",
    "    print('Scores:', scores)\n",
    "    print(\"Mean Accuracy: {:.3f}\".format(sum(scores)/float(len(scores))))"
   ]
  },
  {
   "cell_type": "markdown",
   "id": "dd0e695c-41de-41ea-abf8-c9b930f928e4",
   "metadata": {},
   "source": [
    "## Checking accuracy with euclidean distance"
   ]
  },
  {
   "cell_type": "code",
   "execution_count": 141,
   "id": "7836fb6c-1d90-4d70-94b7-a36f0bfe4188",
   "metadata": {},
   "outputs": [
    {
     "name": "stdout",
     "output_type": "stream",
     "text": [
      "Scores: [0.6071428571428571, 0.7857142857142857, 0.6785714285714286, 0.7857142857142857, 0.6785714285714286, 0.7142857142857143, 0.8214285714285714, 0.8214285714285714, 0.75, 0.8214285714285714]\n",
      "Mean Accuracy: 0.746\n"
     ]
    }
   ],
   "source": [
    "run_knn_k_cross(\"breast-cancer.data\",0,[1,2,3,4,5,7,8,9],euclidean_distance,7)"
   ]
  },
  {
   "cell_type": "code",
   "execution_count": 99,
   "id": "c975ecac-d8b0-427e-b700-e8bc8557be9c",
   "metadata": {},
   "outputs": [
    {
     "name": "stdout",
     "output_type": "stream",
     "text": [
      "Scores: [0.6923076923076923, 0.7692307692307693, 0.6923076923076923, 0.6153846153846154, 0.7692307692307693, 0.6923076923076923, 0.6923076923076923, 0.7692307692307693, 0.7692307692307693, 0.6923076923076923]\n",
      "Mean Accuracy: 0.715\n"
     ]
    }
   ],
   "source": [
    "run_knn_k_cross(\"hayes-roth.data\",5,[],euclidean_distance,2)"
   ]
  },
  {
   "cell_type": "code",
   "execution_count": 154,
   "id": "bb8e36d2-179c-47bf-bc02-69ebdcac4322",
   "metadata": {},
   "outputs": [
    {
     "name": "stdout",
     "output_type": "stream",
     "text": [
      "Scores: [0.7093023255813954, 0.8081395348837209, 0.7325581395348837, 0.8313953488372093, 0.7790697674418605, 0.7965116279069767, 0.7616279069767442, 0.7209302325581395, 0.7441860465116279, 0.7558139534883721]\n",
      "Mean Accuracy: 0.764\n"
     ]
    }
   ],
   "source": [
    "run_knn_k_cross(\"car.data\",6,[0,1,2,3,4,5],euclidean_distance,9)"
   ]
  },
  {
   "cell_type": "markdown",
   "id": "8a4cda5d-bd4d-4b8f-b950-772b7c09d785",
   "metadata": {},
   "source": [
    "## Checking accuracy with hamming distance"
   ]
  },
  {
   "cell_type": "code",
   "execution_count": 123,
   "id": "bc587f43-f670-4c41-9075-b8b59991d0c7",
   "metadata": {},
   "outputs": [
    {
     "name": "stdout",
     "output_type": "stream",
     "text": [
      "Scores: [0.6071428571428571, 0.8214285714285714, 0.6785714285714286, 0.75, 0.6428571428571429, 0.75, 0.75, 0.7857142857142857, 0.75, 0.8214285714285714]\n",
      "Mean Accuracy: 0.736\n"
     ]
    }
   ],
   "source": [
    "run_knn_k_cross(\"breast-cancer.data\",0,[1,2,3,4,5,7,8,9],hamming_distance,7)"
   ]
  },
  {
   "cell_type": "code",
   "execution_count": 119,
   "id": "b85473f2-5b6c-4fb5-8dcf-1e477e4af574",
   "metadata": {},
   "outputs": [
    {
     "name": "stdout",
     "output_type": "stream",
     "text": [
      "Scores: [0.6923076923076923, 0.6923076923076923, 0.6153846153846154, 0.6923076923076923, 0.6923076923076923, 0.7692307692307693, 0.9230769230769231, 0.8461538461538461, 0.46153846153846156, 0.6153846153846154]\n",
      "Mean Accuracy: 0.700\n"
     ]
    }
   ],
   "source": [
    "run_knn_k_cross(\"hayes-roth.data\",5,[],hamming_distance,2)"
   ]
  },
  {
   "cell_type": "code",
   "execution_count": 114,
   "id": "fa763b7f-2fc6-4418-90db-e904440a087a",
   "metadata": {},
   "outputs": [
    {
     "name": "stdout",
     "output_type": "stream",
     "text": [
      "Scores: [0.877906976744186, 0.936046511627907, 0.8895348837209303, 0.9418604651162791, 0.9186046511627907, 0.9418604651162791, 0.9302325581395349, 0.9244186046511628, 0.8953488372093024, 0.9244186046511628]\n",
      "Mean Accuracy: 0.918\n"
     ]
    }
   ],
   "source": [
    "run_knn_k_cross(\"car.data\",6,[0,1,2,3,4,5],hamming_distance,9)"
   ]
  },
  {
   "cell_type": "markdown",
   "id": "a98aab71-bf5d-4c56-b89a-857f09926c85",
   "metadata": {},
   "source": [
    "## Checking accuracy with cosine distance"
   ]
  },
  {
   "cell_type": "code",
   "execution_count": 129,
   "id": "b7a7bbf2-0a58-42ea-bd14-9e773fa10b25",
   "metadata": {},
   "outputs": [
    {
     "name": "stdout",
     "output_type": "stream",
     "text": [
      "Scores: [0.6071428571428571, 0.75, 0.7142857142857143, 0.7857142857142857, 0.7142857142857143, 0.7857142857142857, 0.8214285714285714, 0.7857142857142857, 0.7857142857142857, 0.8214285714285714]\n",
      "Mean Accuracy: 0.757\n"
     ]
    }
   ],
   "source": [
    "run_knn_k_cross(\"breast-cancer.data\",0,[1,2,3,4,5,7,8,9],cosine_distance,7)"
   ]
  },
  {
   "cell_type": "code",
   "execution_count": 143,
   "id": "4b2c5feb-884e-48f0-af30-aeca6becf05f",
   "metadata": {},
   "outputs": [
    {
     "name": "stdout",
     "output_type": "stream",
     "text": [
      "Scores: [0.6153846153846154, 0.6153846153846154, 0.5384615384615384, 0.5384615384615384, 0.8461538461538461, 0.7692307692307693, 0.6153846153846154, 0.6153846153846154, 0.6923076923076923, 0.6923076923076923]\n",
      "Mean Accuracy: 0.654\n"
     ]
    }
   ],
   "source": [
    "run_knn_k_cross(\"hayes-roth.data\",5,[],cosine_distance,2)"
   ]
  },
  {
   "cell_type": "code",
   "execution_count": 153,
   "id": "609d3921-25db-4ebd-abb7-12bfcf3180a5",
   "metadata": {},
   "outputs": [
    {
     "name": "stderr",
     "output_type": "stream",
     "text": [
      "/var/folders/nw/s4h_7xbn2_d8cf322fxsyjbr0000gp/T/ipykernel_75666/2619794587.py:5: RuntimeWarning: invalid value encountered in scalar divide\n",
      "  cosine_similarity= dot_product / (norm1 * norm2)\n"
     ]
    },
    {
     "name": "stdout",
     "output_type": "stream",
     "text": [
      "Scores: [0.7151162790697675, 0.7732558139534884, 0.7093023255813954, 0.7965116279069767, 0.7383720930232558, 0.7906976744186046, 0.7209302325581395, 0.7034883720930233, 0.7267441860465116, 0.7093023255813954]\n",
      "Mean Accuracy: 0.738\n"
     ]
    }
   ],
   "source": [
    "run_knn_k_cross(\"car.data\",6,[0,1,2,3,4,5],cosine_distance,9)"
   ]
  },
  {
   "cell_type": "markdown",
   "id": "570c2d54-4555-4aa1-8de4-55a6bbc7f735",
   "metadata": {},
   "source": [
    "## Checking accuracy with manhattan distance"
   ]
  },
  {
   "cell_type": "code",
   "execution_count": 138,
   "id": "82ef5562-5716-42ba-84f3-c1a1c985de84",
   "metadata": {},
   "outputs": [
    {
     "name": "stdout",
     "output_type": "stream",
     "text": [
      "Scores: [0.6071428571428571, 0.7857142857142857, 0.6785714285714286, 0.75, 0.6428571428571429, 0.7142857142857143, 0.7857142857142857, 0.8214285714285714, 0.75, 0.7857142857142857]\n",
      "Mean Accuracy: 0.732\n"
     ]
    }
   ],
   "source": [
    "run_knn_k_cross(\"breast-cancer.data\",0,[1,2,3,4,5,7,8,9],manhattan_distance,7)"
   ]
  },
  {
   "cell_type": "code",
   "execution_count": 142,
   "id": "a2f3693e-d5d7-49a1-991d-77fdc67ddcee",
   "metadata": {},
   "outputs": [
    {
     "name": "stdout",
     "output_type": "stream",
     "text": [
      "Scores: [0.6153846153846154, 0.7692307692307693, 0.6923076923076923, 0.6153846153846154, 0.7692307692307693, 0.6923076923076923, 0.6923076923076923, 0.7692307692307693, 0.7692307692307693, 0.6153846153846154]\n",
      "Mean Accuracy: 0.700\n"
     ]
    }
   ],
   "source": [
    "run_knn_k_cross(\"hayes-roth.data\",5,[],manhattan_distance,2)"
   ]
  },
  {
   "cell_type": "code",
   "execution_count": 152,
   "id": "7374c046-a98a-4072-9f1f-cc0ed9cba9bf",
   "metadata": {},
   "outputs": [
    {
     "name": "stdout",
     "output_type": "stream",
     "text": [
      "Scores: [0.8372093023255814, 0.9127906976744186, 0.8546511627906976, 0.9069767441860465, 0.8895348837209303, 0.9127906976744186, 0.8895348837209303, 0.8255813953488372, 0.8546511627906976, 0.8313953488372093]\n",
      "Mean Accuracy: 0.872\n"
     ]
    }
   ],
   "source": [
    "run_knn_k_cross(\"car.data\",6,[0,1,2,3,4,5],manhattan_distance,9)"
   ]
  },
  {
   "cell_type": "markdown",
   "id": "a7e24973-23da-4879-9f40-e3220ac31482",
   "metadata": {},
   "source": [
    "## Checking accuracy with minkowski distance"
   ]
  },
  {
   "cell_type": "code",
   "execution_count": 149,
   "id": "14fa4e65-b909-4500-b35d-71bc58cf24ae",
   "metadata": {},
   "outputs": [
    {
     "name": "stdout",
     "output_type": "stream",
     "text": [
      "Scores: [0.6071428571428571, 0.7857142857142857, 0.6785714285714286, 0.7857142857142857, 0.6785714285714286, 0.7142857142857143, 0.8214285714285714, 0.8214285714285714, 0.75, 0.8214285714285714]\n",
      "Mean Accuracy: 0.746\n"
     ]
    }
   ],
   "source": [
    "run_knn_k_cross(\"breast-cancer.data\",0,[1,2,3,4,5,7,8,9],minkowski_distance,7)"
   ]
  },
  {
   "cell_type": "code",
   "execution_count": 150,
   "id": "27a17550-3145-4bf4-ba46-a8d9a52e603f",
   "metadata": {},
   "outputs": [
    {
     "name": "stdout",
     "output_type": "stream",
     "text": [
      "Scores: [0.6923076923076923, 0.7692307692307693, 0.6923076923076923, 0.6153846153846154, 0.7692307692307693, 0.6923076923076923, 0.6923076923076923, 0.7692307692307693, 0.7692307692307693, 0.6923076923076923]\n",
      "Mean Accuracy: 0.715\n"
     ]
    }
   ],
   "source": [
    "run_knn_k_cross(\"hayes-roth.data\",5,[],minkowski_distance,2)"
   ]
  },
  {
   "cell_type": "code",
   "execution_count": 151,
   "id": "da1e6463-ef28-4fcc-b1d7-4ff4495a006a",
   "metadata": {},
   "outputs": [
    {
     "name": "stdout",
     "output_type": "stream",
     "text": [
      "Scores: [0.7093023255813954, 0.8081395348837209, 0.7325581395348837, 0.8313953488372093, 0.7790697674418605, 0.7965116279069767, 0.7616279069767442, 0.7209302325581395, 0.7441860465116279, 0.7558139534883721]\n",
      "Mean Accuracy: 0.764\n"
     ]
    }
   ],
   "source": [
    "run_knn_k_cross(\"car.data\",6,[0,1,2,3,4,5],minkowski_distance,9)"
   ]
  },
  {
   "cell_type": "markdown",
   "id": "d5e1e3b4-353b-4ff6-9bbf-da871fe58f06",
   "metadata": {},
   "source": [
    "# Sklearn KNN"
   ]
  },
  {
   "cell_type": "code",
   "execution_count": 81,
   "id": "45c78e80-cc89-4566-ad06-3606b6c9810d",
   "metadata": {},
   "outputs": [],
   "source": [
    "from sklearn.model_selection import cross_val_score, KFold\n",
    "from sklearn.neighbors import KNeighborsClassifier\n",
    "from csv import reader\n",
    "from sklearn.preprocessing import MinMaxScaler\n",
    "from sklearn.metrics import accuracy_score\n",
    "\n",
    "\n",
    "def sklearn_knn(filename, class_index, list_of_encoding_index, k,num_of_folds=10):\n",
    "    #can specify no. of neighbors(k) as argument\n",
    "    dataset = load_csv(filename)\n",
    "    column_lookup = dict()\n",
    "    for i in range(len(dataset[0])):\n",
    "        if i != class_index and i not in list_of_encoding_index:\n",
    "            str_column_to_float(dataset, i)\n",
    "        elif i in list_of_encoding_index:\n",
    "            column_lookup[i] = str_column_to_int(dataset, i)\n",
    "            \n",
    "    column_lookup[class_index]=str_column_to_int(dataset, class_index)\n",
    "    new_dataset=[]\n",
    "\n",
    "    for i in range(len(dataset)):\n",
    "        label = dataset[i][class_index]\n",
    "        dataset[i].pop(class_index)\n",
    "        new_dataset.append([tuple(dataset[i]),label])\n",
    "    dataset = new_dataset\n",
    "    n = len(dataset)\n",
    "    fold_size = n //num_of_folds\n",
    "    random.Random(42).shuffle(dataset)\n",
    "    scores=[]\n",
    "    for i in range(num_of_folds):\n",
    "        test_data = dataset[i * fold_size:(i + 1)* fold_size]\n",
    "        train_data = dataset[:i *fold_size] + dataset[(i+1) * fold_size:]\n",
    "    \n",
    "        X_train = []\n",
    "        X_test = []\n",
    "        y_train = []\n",
    "        y_test = []\n",
    "    \n",
    "        for train_point,label in train_data:\n",
    "            X_train.append(train_point)\n",
    "            y_train.append(label)\n",
    "\n",
    "        for test_point,label in test_data:\n",
    "            X_test.append(test_point)\n",
    "            y_test.append(label)\n",
    "            \n",
    "        scaler = MinMaxScaler()\n",
    "        knn = KNeighborsClassifier(n_neighbors=k)\n",
    "    \n",
    "        knn.fit(scaler.fit_transform(X_train), y_train)\n",
    "        \n",
    "        y_pred = knn.predict(scaler.fit_transform(X_test))\n",
    "        \n",
    "        accuracy = accuracy_score(y_test, y_pred)\n",
    "        scores.append(accuracy)\n",
    "        \n",
    "    print(\"Accuracies for each fold:\", scores)\n",
    "        \n",
    "    print(\"Mean accuracy:\", sum(scores)/len(scores))"
   ]
  },
  {
   "cell_type": "code",
   "execution_count": 124,
   "id": "3064d8f0-7178-4665-a1de-69d77fa71b8f",
   "metadata": {},
   "outputs": [
    {
     "name": "stdout",
     "output_type": "stream",
     "text": [
      "Accuracies for each fold: [0.6428571428571429, 0.8571428571428571, 0.7142857142857143, 0.75, 0.6785714285714286, 0.6785714285714286, 0.7857142857142857, 0.8214285714285714, 0.7857142857142857, 0.8571428571428571]\n",
      "Mean accuracy: 0.7571428571428571\n"
     ]
    }
   ],
   "source": [
    "sklearn_knn(\"breast-cancer.data\", 0, [1,2,3,4,5,7,8,9],7)"
   ]
  },
  {
   "cell_type": "code",
   "execution_count": 155,
   "id": "0a507afc-f556-4ac1-b493-9e65576b1447",
   "metadata": {},
   "outputs": [
    {
     "name": "stdout",
     "output_type": "stream",
     "text": [
      "Accuracies for each fold: [0.6976744186046512, 0.813953488372093, 0.7441860465116279, 0.8255813953488372, 0.7383720930232558, 0.7790697674418605, 0.75, 0.7034883720930233, 0.7383720930232558, 0.7441860465116279]\n",
      "Mean accuracy: 0.7534883720930233\n"
     ]
    }
   ],
   "source": [
    "sklearn_knn(\"car.data\",6,[0,1,2,3,4,5],9)"
   ]
  },
  {
   "cell_type": "code",
   "execution_count": 93,
   "id": "4769d689-b0fa-4754-9522-34372459332b",
   "metadata": {},
   "outputs": [
    {
     "name": "stdout",
     "output_type": "stream",
     "text": [
      "Accuracies for each fold: [0.5384615384615384, 0.3076923076923077, 0.6153846153846154, 0.6923076923076923, 0.6153846153846154, 0.5384615384615384, 0.6923076923076923, 0.6153846153846154, 0.5384615384615384, 0.6153846153846154]\n",
      "Mean accuracy: 0.5769230769230769\n"
     ]
    }
   ],
   "source": [
    "sklearn_knn(\"hayes-roth.data\",5,[],2)"
   ]
  },
  {
   "cell_type": "markdown",
   "id": "a0786855-0833-470a-9555-c34b4b5fd7c8",
   "metadata": {},
   "source": [
    "# Comparing My knn to sklearn knn using Hypothesis Testing using t-paired test"
   ]
  },
  {
   "cell_type": "markdown",
   "id": "b02e0f1a-918b-4985-8ae9-f74337dcefd8",
   "metadata": {},
   "source": [
    "### Null Hypothesis: There is no significant difference in performance between my knn and sklearn knn\n",
    "### Alternate Hypothesis: There is significant difference in  performance between both"
   ]
  },
  {
   "cell_type": "code",
   "execution_count": 156,
   "id": "fa01634f-5366-4271-903f-b1a864457a88",
   "metadata": {},
   "outputs": [],
   "source": [
    "from scipy import stats\n",
    "def compare_knn(my_knn_metrics, sklearn_metrics):\n",
    "    my_knn=np.array(my_knn_metrics)\n",
    "    sklearn_knn=np.array(sklearn_metrics)\n",
    "\n",
    "    t_statistic, p_value = stats.ttest_rel(my_knn, sklearn_knn)\n",
    "\n",
    "    alpha = 0.05\n",
    "    print(p_value)\n",
    "\n",
    "    if p_value < alpha:\n",
    "        print(\"Reject the null hypothesis: There is a significant difference in performance.\")\n",
    "    else:\n",
    "        print(\"Failed to reject the null hypothesis: There is no significant difference in performance.\")\n"
   ]
  },
  {
   "cell_type": "markdown",
   "id": "9ea1955e-8ccb-47d6-abbe-ac6e6076f813",
   "metadata": {},
   "source": [
    "## Comparing k-fold scores of both KNN's"
   ]
  },
  {
   "cell_type": "markdown",
   "id": "3bc3f792-a0a2-434b-983b-bf48f38fcd5f",
   "metadata": {},
   "source": [
    "### For Breast cancer dataset"
   ]
  },
  {
   "cell_type": "code",
   "execution_count": 159,
   "id": "539c66c4-09c6-48b1-b779-b211ec59428d",
   "metadata": {},
   "outputs": [
    {
     "name": "stdout",
     "output_type": "stream",
     "text": [
      "0.9999999999999996\n",
      "Failed to reject the null hypothesis: There is no significant difference in performance.\n"
     ]
    }
   ],
   "source": [
    "compare_knn([0.6071428571428571, 0.75, 0.7142857142857143, 0.7857142857142857, 0.7142857142857143, 0.7857142857142857, \n",
    "             0.8214285714285714, 0.7857142857142857, 0.7857142857142857, 0.8214285714285714],\n",
    "            [0.6428571428571429, 0.8571428571428571, 0.7142857142857143, 0.75, 0.6785714285714286, 0.6785714285714286, \n",
    "             0.7857142857142857, 0.8214285714285714, 0.7857142857142857, 0.8571428571428571])"
   ]
  },
  {
   "cell_type": "markdown",
   "id": "9e599278-33f9-4a33-a74e-740bbcc7da29",
   "metadata": {},
   "source": [
    "### For Hayes Roth dataset"
   ]
  },
  {
   "cell_type": "code",
   "execution_count": 161,
   "id": "81c82763-d91c-4a10-9082-f910ecf53b49",
   "metadata": {},
   "outputs": [
    {
     "name": "stdout",
     "output_type": "stream",
     "text": [
      "0.036787497879786135\n",
      "Reject the null hypothesis: There is a significant difference in performance.\n"
     ]
    }
   ],
   "source": [
    "compare_knn([0.6923076923076923, 0.6153846153846154, 0.6153846153846154, 0.7692307692307693, 0.7692307692307693, 0.8461538461538461, \n",
    "            0.6153846153846154, 0.8461538461538461, 0.7692307692307693, 0.46153846153846156],\n",
    "            [0.5384615384615384, 0.3076923076923077, 0.6153846153846154, 0.6923076923076923, 0.6153846153846154, \n",
    "             0.5384615384615384, 0.6923076923076923, 0.6153846153846154, 0.5384615384615384, 0.6153846153846154])"
   ]
  },
  {
   "cell_type": "markdown",
   "id": "62317187-0af9-4ab7-9518-451a878f8aed",
   "metadata": {},
   "source": [
    "### For Car dataset"
   ]
  },
  {
   "cell_type": "code",
   "execution_count": 160,
   "id": "35fb711c-3afb-48ad-ac3d-dd13c3d0077a",
   "metadata": {},
   "outputs": [
    {
     "name": "stdout",
     "output_type": "stream",
     "text": [
      "4.3992895266255376e-08\n",
      "Reject the null hypothesis: There is a significant difference in performance.\n"
     ]
    }
   ],
   "source": [
    "compare_knn([0.877906976744186, 0.936046511627907, 0.8895348837209303, 0.9418604651162791, 0.9186046511627907, 0.9418604651162791, \n",
    "             0.9302325581395349, 0.9244186046511628, 0.8953488372093024, 0.9244186046511628],\n",
    "            [0.6976744186046512, 0.813953488372093, 0.7441860465116279, 0.8255813953488372, 0.7383720930232558, \n",
    "             0.7790697674418605, 0.75, 0.7034883720930233, 0.7383720930232558, 0.7441860465116279])"
   ]
  }
 ],
 "metadata": {
  "kernelspec": {
   "display_name": "Python 3 (ipykernel)",
   "language": "python",
   "name": "python3"
  },
  "language_info": {
   "codemirror_mode": {
    "name": "ipython",
    "version": 3
   },
   "file_extension": ".py",
   "mimetype": "text/x-python",
   "name": "python",
   "nbconvert_exporter": "python",
   "pygments_lexer": "ipython3",
   "version": "3.11.6"
  }
 },
 "nbformat": 4,
 "nbformat_minor": 5
}
